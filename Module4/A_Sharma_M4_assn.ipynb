{
 "cells": [
  {
   "cell_type": "markdown",
   "id": "99d4552c",
   "metadata": {},
   "source": [
    "# DAV 5400 Module 4 Assignment"
   ]
  },
  {
   "cell_type": "code",
   "execution_count": 151,
   "id": "f091fed6",
   "metadata": {},
   "outputs": [
    {
     "data": {
      "text/html": [
       "<div>\n",
       "<style scoped>\n",
       "    .dataframe tbody tr th:only-of-type {\n",
       "        vertical-align: middle;\n",
       "    }\n",
       "\n",
       "    .dataframe tbody tr th {\n",
       "        vertical-align: top;\n",
       "    }\n",
       "\n",
       "    .dataframe thead th {\n",
       "        text-align: right;\n",
       "    }\n",
       "</style>\n",
       "<table border=\"1\" class=\"dataframe\">\n",
       "  <thead>\n",
       "    <tr style=\"text-align: right;\">\n",
       "      <th></th>\n",
       "      <th>TARGET</th>\n",
       "      <th>ID</th>\n",
       "      <th>age</th>\n",
       "      <th>prod_A</th>\n",
       "      <th>type_A</th>\n",
       "      <th>type_B</th>\n",
       "      <th>prod_B</th>\n",
       "      <th>turnover_A</th>\n",
       "      <th>turnover_B</th>\n",
       "      <th>lor_M</th>\n",
       "    </tr>\n",
       "  </thead>\n",
       "  <tbody>\n",
       "    <tr>\n",
       "      <th>0</th>\n",
       "      <td>Y</td>\n",
       "      <td>77</td>\n",
       "      <td>66</td>\n",
       "      <td>0</td>\n",
       "      <td>0</td>\n",
       "      <td>0</td>\n",
       "      <td>0</td>\n",
       "      <td>333.561114</td>\n",
       "      <td>264.721010</td>\n",
       "      <td>3</td>\n",
       "    </tr>\n",
       "    <tr>\n",
       "      <th>1</th>\n",
       "      <td>Y</td>\n",
       "      <td>159</td>\n",
       "      <td>45</td>\n",
       "      <td>1</td>\n",
       "      <td>3</td>\n",
       "      <td>3</td>\n",
       "      <td>1</td>\n",
       "      <td>394.735699</td>\n",
       "      <td>284.904978</td>\n",
       "      <td>39</td>\n",
       "    </tr>\n",
       "    <tr>\n",
       "      <th>2</th>\n",
       "      <td>Y</td>\n",
       "      <td>220</td>\n",
       "      <td>42</td>\n",
       "      <td>1</td>\n",
       "      <td>3</td>\n",
       "      <td>6</td>\n",
       "      <td>1</td>\n",
       "      <td>342.180990</td>\n",
       "      <td>1175.589721</td>\n",
       "      <td>27</td>\n",
       "    </tr>\n",
       "    <tr>\n",
       "      <th>3</th>\n",
       "      <td>Y</td>\n",
       "      <td>303</td>\n",
       "      <td>31</td>\n",
       "      <td>0</td>\n",
       "      <td>0</td>\n",
       "      <td>0</td>\n",
       "      <td>0</td>\n",
       "      <td>453.757916</td>\n",
       "      <td>242.341754</td>\n",
       "      <td>3</td>\n",
       "    </tr>\n",
       "    <tr>\n",
       "      <th>4</th>\n",
       "      <td>Y</td>\n",
       "      <td>306</td>\n",
       "      <td>62</td>\n",
       "      <td>0</td>\n",
       "      <td>0</td>\n",
       "      <td>0</td>\n",
       "      <td>0</td>\n",
       "      <td>384.577469</td>\n",
       "      <td>287.008370</td>\n",
       "      <td>3</td>\n",
       "    </tr>\n",
       "    <tr>\n",
       "      <th>...</th>\n",
       "      <td>...</td>\n",
       "      <td>...</td>\n",
       "      <td>...</td>\n",
       "      <td>...</td>\n",
       "      <td>...</td>\n",
       "      <td>...</td>\n",
       "      <td>...</td>\n",
       "      <td>...</td>\n",
       "      <td>...</td>\n",
       "      <td>...</td>\n",
       "    </tr>\n",
       "    <tr>\n",
       "      <th>11003</th>\n",
       "      <td>N</td>\n",
       "      <td>16793</td>\n",
       "      <td>33</td>\n",
       "      <td>1</td>\n",
       "      <td>3</td>\n",
       "      <td>3</td>\n",
       "      <td>1</td>\n",
       "      <td>302.380331</td>\n",
       "      <td>229.457986</td>\n",
       "      <td>27</td>\n",
       "    </tr>\n",
       "    <tr>\n",
       "      <th>11004</th>\n",
       "      <td>N</td>\n",
       "      <td>16794</td>\n",
       "      <td>23</td>\n",
       "      <td>0</td>\n",
       "      <td>0</td>\n",
       "      <td>0</td>\n",
       "      <td>0</td>\n",
       "      <td>316.268616</td>\n",
       "      <td>228.518505</td>\n",
       "      <td>3</td>\n",
       "    </tr>\n",
       "    <tr>\n",
       "      <th>11005</th>\n",
       "      <td>N</td>\n",
       "      <td>16798</td>\n",
       "      <td>23</td>\n",
       "      <td>1</td>\n",
       "      <td>3</td>\n",
       "      <td>3</td>\n",
       "      <td>1</td>\n",
       "      <td>385.871241</td>\n",
       "      <td>236.665515</td>\n",
       "      <td>27</td>\n",
       "    </tr>\n",
       "    <tr>\n",
       "      <th>11006</th>\n",
       "      <td>N</td>\n",
       "      <td>16800</td>\n",
       "      <td>32</td>\n",
       "      <td>1</td>\n",
       "      <td>3</td>\n",
       "      <td>3</td>\n",
       "      <td>1</td>\n",
       "      <td>317.578868</td>\n",
       "      <td>226.899614</td>\n",
       "      <td>15</td>\n",
       "    </tr>\n",
       "    <tr>\n",
       "      <th>11007</th>\n",
       "      <td>N</td>\n",
       "      <td>16801</td>\n",
       "      <td>23</td>\n",
       "      <td>1</td>\n",
       "      <td>3</td>\n",
       "      <td>3</td>\n",
       "      <td>1</td>\n",
       "      <td>349.035844</td>\n",
       "      <td>205.621402</td>\n",
       "      <td>39</td>\n",
       "    </tr>\n",
       "  </tbody>\n",
       "</table>\n",
       "<p>11008 rows × 10 columns</p>\n",
       "</div>"
      ],
      "text/plain": [
       "      TARGET     ID  age  prod_A  type_A  type_B  prod_B  turnover_A  \\\n",
       "0          Y     77   66       0       0       0       0  333.561114   \n",
       "1          Y    159   45       1       3       3       1  394.735699   \n",
       "2          Y    220   42       1       3       6       1  342.180990   \n",
       "3          Y    303   31       0       0       0       0  453.757916   \n",
       "4          Y    306   62       0       0       0       0  384.577469   \n",
       "...      ...    ...  ...     ...     ...     ...     ...         ...   \n",
       "11003      N  16793   33       1       3       3       1  302.380331   \n",
       "11004      N  16794   23       0       0       0       0  316.268616   \n",
       "11005      N  16798   23       1       3       3       1  385.871241   \n",
       "11006      N  16800   32       1       3       3       1  317.578868   \n",
       "11007      N  16801   23       1       3       3       1  349.035844   \n",
       "\n",
       "        turnover_B  lor_M  \n",
       "0       264.721010      3  \n",
       "1       284.904978     39  \n",
       "2      1175.589721     27  \n",
       "3       242.341754      3  \n",
       "4       287.008370      3  \n",
       "...            ...    ...  \n",
       "11003   229.457986     27  \n",
       "11004   228.518505      3  \n",
       "11005   236.665515     27  \n",
       "11006   226.899614     15  \n",
       "11007   205.621402     39  \n",
       "\n",
       "[11008 rows x 10 columns]"
      ]
     },
     "execution_count": 151,
     "metadata": {},
     "output_type": "execute_result"
    }
   ],
   "source": [
    "#Load the pandas library\n",
    "import pandas as pd\n",
    "\n",
    "# read contents of a csv file from GitHub into a Pandas DataFrame\n",
    "df = pd.read_csv('https://raw.githubusercontent.com/anagh3395/DAV5400/main/Module4/M4_Data.csv')\n",
    "df"
   ]
  },
  {
   "cell_type": "markdown",
   "id": "d82dea89",
   "metadata": {},
   "source": [
    "#### Q1. What proportion of customers have an age of more than the average customer age but less than 56?"
   ]
  },
  {
   "cell_type": "markdown",
   "id": "2df75a73",
   "metadata": {},
   "source": [
    "####  Logic\n",
    "\n",
    "- Firstly we find the mean for the age column   \n",
    "\n",
    "- Secondly we filter the dataframe according to the condition (age greater than average age and less than 56)\n",
    "\n",
    "- Lastly we print length of the new dataframe and divide it by number of customers \n"
   ]
  },
  {
   "cell_type": "code",
   "execution_count": 152,
   "id": "d33a90d7",
   "metadata": {},
   "outputs": [
    {
     "name": "stdout",
     "output_type": "stream",
     "text": [
      " Proportion of customers have an age more than avg but less than 56 \n",
      " 0.3352107558139535\n"
     ]
    }
   ],
   "source": [
    "avg_age = df.loc[:,'age'].mean()\n",
    "filtered_df = df[(df['age'] > avg_age) & (df['age'] < 56) ]\n",
    "print(\" Proportion of customers have an age more than avg but less than 56 \\n\",len(filtered_df)/len(df))"
   ]
  },
  {
   "cell_type": "markdown",
   "id": "01e10821",
   "metadata": {},
   "source": [
    "#### Q2.  How many customers that have purchased Product B have spent more on Product B than 1.5x the  median amount that customers typically spend on Product B?\n"
   ]
  },
  {
   "cell_type": "markdown",
   "id": "8fedfb38",
   "metadata": {},
   "source": [
    "####  Logic\n",
    "\n",
    "- Firstly we find the median of the \"turnover_B\" column.  \n",
    "\n",
    "- Secondly we filter the dataframe according to the condition (that it should be greater than 1.5 times median) and display the length .\n"
   ]
  },
  {
   "cell_type": "code",
   "execution_count": 153,
   "id": "6d562a94",
   "metadata": {},
   "outputs": [
    {
     "name": "stdout",
     "output_type": "stream",
     "text": [
      "865\n"
     ]
    }
   ],
   "source": [
    "median = df['turnover_B'].median()\n",
    "print(len(df[(df['turnover_B'] > (median*1.5))]))"
   ]
  },
  {
   "cell_type": "markdown",
   "id": "d5b47f5c",
   "metadata": {},
   "source": [
    "#### Q3. How many customers have spent more on Product B than they have on Product A?"
   ]
  },
  {
   "cell_type": "code",
   "execution_count": 154,
   "id": "4d48acb4",
   "metadata": {},
   "outputs": [
    {
     "name": "stdout",
     "output_type": "stream",
     "text": [
      "756\n"
     ]
    }
   ],
   "source": [
    "#filter the dataframe to find the customers who have spent more on product B than on product A\n",
    "#Print the length \n",
    "print(len(df[df['turnover_A'] < df['turnover_B'] ]))"
   ]
  },
  {
   "cell_type": "markdown",
   "id": "45a1240e",
   "metadata": {},
   "source": [
    "#### Q4. How many customers have purchased either type 6 of Product A or type 9 of Product B?"
   ]
  },
  {
   "cell_type": "code",
   "execution_count": 155,
   "id": "b63d6e7c",
   "metadata": {},
   "outputs": [
    {
     "name": "stdout",
     "output_type": "stream",
     "text": [
      "55\n"
     ]
    }
   ],
   "source": [
    "#Filtering the rows based on the condition using the bitwise OR operator \n",
    "#Print the no of rows who satisfy the condition\n",
    "print(len(df[(df['type_A'] == 6) | (df['type_B'] == 9) ]))"
   ]
  },
  {
   "cell_type": "markdown",
   "id": "e94e98ab",
   "metadata": {},
   "source": [
    "#### Q5. Which customer has attained the highest average amount of monthly spending (i.e., across all  products they have purchased from the company) during the time in which they have been a customer of the company?"
   ]
  },
  {
   "cell_type": "markdown",
   "id": "5e5486a3",
   "metadata": {},
   "source": [
    "####  Logic\n",
    "\n",
    "- Firstly we add a column in dataframe known as \"sum\" which is customer's total spending amount \n",
    "\n",
    "- Secondly we add a column \"sum_per_month\" which is customer's total spending amount divided by number of months that have been in the company.\n"
   ]
  },
  {
   "cell_type": "code",
   "execution_count": 156,
   "id": "27299787",
   "metadata": {},
   "outputs": [],
   "source": [
    "df['sum'] = (df['turnover_A'] + df['turnover_B'])\n",
    "df['sum_per_month'] = df['sum']/df['lor_M']"
   ]
  },
  {
   "cell_type": "markdown",
   "id": "6abf3c6e",
   "metadata": {},
   "source": [
    "####  Answer by providing the dataframe row index, customer ID, and the total number of months the  customer has been with the company, as well as that customer's total spending amount."
   ]
  },
  {
   "cell_type": "code",
   "execution_count": 157,
   "id": "0917baaa",
   "metadata": {},
   "outputs": [
    {
     "name": "stdout",
     "output_type": "stream",
     "text": [
      "          ID  lor_M          sum\n",
      "0         77      3   598.282125\n",
      "1        159     39   679.640677\n",
      "2        220     27  1517.770710\n",
      "3        303      3   696.099670\n",
      "4        306      3   671.585839\n",
      "...      ...    ...          ...\n",
      "11003  16793     27   531.838317\n",
      "11004  16794      3   544.787121\n",
      "11005  16798     27   622.536757\n",
      "11006  16800     15   544.478483\n",
      "11007  16801     39   554.657246\n",
      "\n",
      "[11008 rows x 3 columns]\n"
     ]
    }
   ],
   "source": [
    "print(df[['ID','lor_M','sum']])"
   ]
  },
  {
   "cell_type": "markdown",
   "id": "f29183e9",
   "metadata": {},
   "source": [
    "#### Finally, display the complete content of the dataframe row corresponding to the customer you have identified.\n"
   ]
  },
  {
   "cell_type": "code",
   "execution_count": 158,
   "id": "339f60e6",
   "metadata": {},
   "outputs": [
    {
     "data": {
      "text/plain": [
       "TARGET                      N\n",
       "ID                      16185\n",
       "age                        72\n",
       "prod_A                      0\n",
       "type_A                      0\n",
       "type_B                      3\n",
       "prod_B                      1\n",
       "turnover_A         308.011162\n",
       "turnover_B        12249.08477\n",
       "lor_M                      15\n",
       "sum              12557.095932\n",
       "sum_per_month      837.139729\n",
       "Name: 10713, dtype: object"
      ]
     },
     "execution_count": 158,
     "metadata": {},
     "output_type": "execute_result"
    }
   ],
   "source": [
    "# We use the \"idxmax\" function to find the row whch contains the max sum_per_month value\n",
    "df.loc[df['sum_per_month'].idxmax()]"
   ]
  },
  {
   "cell_type": "markdown",
   "id": "80bf5803",
   "metadata": {},
   "source": [
    "#### Q6. Make bar plots of the 'type_A' and ‘type_B’ data."
   ]
  },
  {
   "cell_type": "markdown",
   "id": "913951db",
   "metadata": {},
   "source": [
    "####  Logic\n",
    "\n",
    "- We call the pandas plot function and pass two columns ('type_A' and type_B)\n",
    "\n",
    "- Secondly we select kind as histogram and subplots as true (which will display them as two plots for the columns)\n"
   ]
  },
  {
   "cell_type": "code",
   "execution_count": 159,
   "id": "1f7106e4",
   "metadata": {},
   "outputs": [
    {
     "data": {
      "text/plain": [
       "array([<Axes: ylabel='Frequency'>, <Axes: ylabel='Frequency'>],\n",
       "      dtype=object)"
      ]
     },
     "execution_count": 159,
     "metadata": {},
     "output_type": "execute_result"
    },
    {
     "data": {
      "image/png": "[encoded data removed]",
      "text/plain": [
       "<Figure size 640x480 with 2 Axes>"
      ]
     },
     "metadata": {},
     "output_type": "display_data"
    }
   ],
   "source": [
    "df[['type_A', 'type_B']].plot(kind = 'hist',subplots=True)"
   ]
  },
  {
   "cell_type": "markdown",
   "id": "0ae7a8cb",
   "metadata": {},
   "source": [
    "#### What do they tell us about the frequencies of the  individual type_A and type_B values within the data set?"
   ]
  },
  {
   "cell_type": "markdown",
   "id": "a8a5224d",
   "metadata": {},
   "source": [
    "#### Most of type_A products are 0 and 3 .  Most of the type_B products are 0 and 3  ."
   ]
  },
  {
   "cell_type": "markdown",
   "id": "63113cbb",
   "metadata": {},
   "source": [
    "#### Q7.  Make boxplots of the 'age' attribute for each type of Product B"
   ]
  },
  {
   "cell_type": "markdown",
   "id": "45e8f16b",
   "metadata": {},
   "source": [
    "####  Logic\n",
    "\n",
    "- We call the pandas assign function which assigns new columns to dataframe and we add each type of product B to it.\n",
    "\n",
    "- We call the pivot function which will reshape the dataframe organised by certain columns.\n",
    "\n",
    "- Finally we box plot for each type.\n"
   ]
  },
  {
   "cell_type": "code",
   "execution_count": 160,
   "id": "423319f5",
   "metadata": {},
   "outputs": [
    {
     "name": "stderr",
     "output_type": "stream",
     "text": [
      "C:\\Users\\anag\\AppData\\Local\\Temp\\ipykernel_10092\\1365547981.py:1: FutureWarning: In a future version of pandas all arguments of DataFrame.pivot will be keyword-only.\n",
      "  df.assign(index=df.groupby('type_B').cumcount()).pivot('index','type_B','age').plot(kind='box')\n"
     ]
    },
    {
     "data": {
      "text/plain": [
       "<Axes: >"
      ]
     },
     "execution_count": 160,
     "metadata": {},
     "output_type": "execute_result"
    },
    {
     "data": {
      "image/png": "[encoded data removed]",
      "text/plain": [
       "<Figure size 640x480 with 1 Axes>"
      ]
     },
     "metadata": {},
     "output_type": "display_data"
    }
   ],
   "source": [
    "df.assign(index=df.groupby('type_B').cumcount()).pivot('index','type_B','age').plot(kind='box')"
   ]
  },
  {
   "cell_type": "markdown",
   "id": "8642e07d",
   "metadata": {},
   "source": [
    "####  Discuss any conclusions you can  draw from the appearance of the boxplots regarding the ages of customers who purchase different types of Product B"
   ]
  },
  {
   "cell_type": "markdown",
   "id": "18a901fc",
   "metadata": {},
   "source": [
    "#### We can see that for type_B 0 and 3 the age group is less (the median for first is 30 and for second is 25 approximately) and for type_B 6 and 9 the age group is more (median for first is 45 and 47 approximately)"
   ]
  },
  {
   "cell_type": "markdown",
   "id": "922904b3",
   "metadata": {},
   "source": [
    "#### Q8. Make histograms of the age and lor_M attributes, and boxplots of the turnover_A, and turnover_B attributes"
   ]
  },
  {
   "cell_type": "code",
   "execution_count": 161,
   "id": "84e6c890",
   "metadata": {},
   "outputs": [
    {
     "data": {
      "text/plain": [
       "<Axes: ylabel='Frequency'>"
      ]
     },
     "execution_count": 161,
     "metadata": {},
     "output_type": "execute_result"
    },
    {
     "data": {
      "image/png": "[encoded data removed]",
      "text/plain": [
       "<Figure size 640x480 with 1 Axes>"
      ]
     },
     "metadata": {},
     "output_type": "display_data"
    }
   ],
   "source": [
    "df['age'].plot(kind = 'hist')"
   ]
  },
  {
   "cell_type": "markdown",
   "id": "0849d63e",
   "metadata": {},
   "source": [
    "#### This histogram shows that most of the age range is between 20 and 25 years approximately . There is a gradual decrease in the frequency as the age increases . This kind of is normal distribution."
   ]
  },
  {
   "cell_type": "code",
   "execution_count": 162,
   "id": "59f0218e",
   "metadata": {},
   "outputs": [
    {
     "data": {
      "text/plain": [
       "<Axes: ylabel='Frequency'>"
      ]
     },
     "execution_count": 162,
     "metadata": {},
     "output_type": "execute_result"
    },
    {
     "data": {
      "image/png": "[encoded data removed]",
      "text/plain": [
       "<Figure size 640x480 with 1 Axes>"
      ]
     },
     "metadata": {},
     "output_type": "display_data"
    }
   ],
   "source": [
    "df['lor_M'].plot(kind = 'hist')"
   ]
  },
  {
   "cell_type": "markdown",
   "id": "20a1e744",
   "metadata": {},
   "source": [
    "#### This histogram shows that most of the customer realationship with company falls mostly between 3 and 17 months approximately . Some customers have higher months relationship but its not a major percentage . The distribution is skewed. "
   ]
  },
  {
   "cell_type": "markdown",
   "id": "a0870ed8",
   "metadata": {},
   "source": [
    "####  Logic\n",
    "\n",
    "- We import the matplotlib library \n",
    "\n",
    "- We set the yaxis scale as 0 to 500 .(thats why imported the matplotlib)\n",
    "\n",
    "- We plot the boxplots for the two columns\n"
   ]
  },
  {
   "cell_type": "code",
   "execution_count": 163,
   "id": "fc2b53a5",
   "metadata": {},
   "outputs": [
    {
     "data": {
      "text/plain": [
       "<Axes: >"
      ]
     },
     "execution_count": 163,
     "metadata": {},
     "output_type": "execute_result"
    },
    {
     "data": {
      "image/png": "[encoded data removed]",
      "text/plain": [
       "<Figure size 640x480 with 1 Axes>"
      ]
     },
     "metadata": {},
     "output_type": "display_data"
    }
   ],
   "source": [
    "import matplotlib.pyplot as plt\n",
    "fig, ax = plt.subplots()\n",
    "ax.set_ylim(0,500)\n",
    "df.boxplot(column=['turnover_B','turnover_A'],ax=ax)"
   ]
  },
  {
   "cell_type": "markdown",
   "id": "3bbb3291",
   "metadata": {},
   "source": [
    "#### The median is around 230 for turnover_B . Majority of values for turnover_B occur between 220 to 260 (approximately).The median is around 350 for turnover_A . Majority of values for turnover_A occur between 320 to 390 (approximately). Also the Interquartile range for turnover_A is more than turnover_B in length . Baically quartiles are more scattered for turnover_A"
   ]
  },
  {
   "cell_type": "markdown",
   "id": "f86ba883",
   "metadata": {},
   "source": [
    "#### Q9.  Make a scatter plot of turnover_A vs. lor_M."
   ]
  },
  {
   "cell_type": "code",
   "execution_count": 164,
   "id": "a5e4e78c",
   "metadata": {},
   "outputs": [
    {
     "data": {
      "text/plain": [
       "<Axes: xlabel='turnover_A', ylabel='lor_M'>"
      ]
     },
     "execution_count": 164,
     "metadata": {},
     "output_type": "execute_result"
    },
    {
     "data": {
      "image/png": "[encoded data removed]",
      "text/plain": [
       "<Figure size 640x480 with 1 Axes>"
      ]
     },
     "metadata": {},
     "output_type": "display_data"
    }
   ],
   "source": [
    "df.plot(kind='scatter', x='turnover_A', y='lor_M')"
   ]
  },
  {
   "cell_type": "markdown",
   "id": "e99fb720",
   "metadata": {},
   "source": [
    " #### What can we say about the relationship between those two attributes"
   ]
  },
  {
   "cell_type": "markdown",
   "id": "71869233",
   "metadata": {},
   "source": [
    "#### Length of customer's relationship is kind of inversely proportional to turnover_A. For more lor_M the turnover_ A is less . For example for lor_M between 50 and 60 , the turnover_A is less than 300 .  If lor_M is moderate than turnover_A increases."
   ]
  }
 ],
 "metadata": {
  "kernelspec": {
   "display_name": "Python 3 (ipykernel)",
   "language": "python",
   "name": "python3"
  },
  "language_info": {
   "codemirror_mode": {
    "name": "ipython",
    "version": 3
   },
   "file_extension": ".py",
   "mimetype": "text/x-python",
   "name": "python",
   "nbconvert_exporter": "python",
   "pygments_lexer": "ipython3",
   "version": "3.11.4"
  }
 },
 "nbformat": 4,
 "nbformat_minor": 5
}
