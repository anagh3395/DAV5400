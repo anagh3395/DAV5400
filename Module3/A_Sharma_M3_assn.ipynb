{
 "cells": [
  {
   "cell_type": "markdown",
   "id": "f7f561ca",
   "metadata": {},
   "source": [
    "# DAV 5400 Module 3 Assignment"
   ]
  },
  {
   "cell_type": "code",
   "execution_count": 2,
   "id": "d68931ff",
   "metadata": {},
   "outputs": [],
   "source": [
    "# Importing numpy package \n",
    "import numpy as np"
   ]
  },
  {
   "cell_type": "markdown",
   "id": "640f3313",
   "metadata": {},
   "source": [
    "#### Q1. Write a Python/NumPy code block that finds the distinct array items that exist in either array a or array b but which do not appear within both arrays:"
   ]
  },
  {
   "cell_type": "markdown",
   "id": "290a8051",
   "metadata": {},
   "source": [
    "####  Logic to find distinct items in two numpy arrays which not appear in both arrays. ?\n",
    "\n",
    "- In order to find unique elements in both arrays we will use set operations. \n",
    "\n",
    "- Firstly we will find the union of both arrays (which will contain the unique values in both the arrays)      \n",
    "\n",
    "-  Secondly we find the intersection of both arrays (which contains the elements which are present in both the arrays)\n",
    "\n",
    "- Lastly we perform set difference for both of these arrays (which will contain the unique elements in both arrays but not common to them)"
   ]
  },
  {
   "cell_type": "code",
   "execution_count": 104,
   "id": "2a2255c7",
   "metadata": {},
   "outputs": [
    {
     "name": "stdout",
     "output_type": "stream",
     "text": [
      "[ 1  3  5  6  7  8  9 10]\n"
     ]
    }
   ],
   "source": [
    "a = np.array([1, 2, 3, 2, 3, 4, 3, 4, 5, 6])\n",
    "b = np.array([7, 2, 10, 2, 7, 4, 9, 4, 9, 8])\n",
    "\n",
    "c=np.setdiff1d(np.union1d(a,b),np.intersect1d(a,b))\n",
    "\n",
    "print(c)"
   ]
  },
  {
   "cell_type": "markdown",
   "id": "a773b74f",
   "metadata": {},
   "source": [
    "#### Q2. Create the following 4x5 array using knowledge you have of Python’s / NumPy’s sequencing functionality so that you do not need to explicitly key in every integer value"
   ]
  },
  {
   "cell_type": "markdown",
   "id": "50a87ed8",
   "metadata": {},
   "source": [
    "####  Logic\n",
    "\n",
    "- Firstly we use the numpy \"arange\" function to find the elements from \"1\" to \"20\" (\"21\" is not included )       \n",
    "\n",
    "- Secondly we use the numpy \"reshape\" function to create a 2D array of 4 rows and 5 columns . We also specify the order to arrange the elements . 'F' order here stands for Fortan Order . This parameter is used to specify the order in which the elements should be arranged in the new reshaped array.\n"
   ]
  },
  {
   "cell_type": "code",
   "execution_count": 105,
   "id": "4dea64bb",
   "metadata": {},
   "outputs": [
    {
     "name": "stdout",
     "output_type": "stream",
     "text": [
      "[[ 1  5  9 13 17]\n",
      " [ 2  6 10 14 18]\n",
      " [ 3  7 11 15 19]\n",
      " [ 4  8 12 16 20]]\n"
     ]
    }
   ],
   "source": [
    "array = np.arange(1,21).reshape(4,5,order = 'F')\n",
    "print(array)"
   ]
  },
  {
   "cell_type": "markdown",
   "id": "9ebd5477",
   "metadata": {},
   "source": [
    "#### Q3. Write a Python/Numpy code block that adds to array a any items that are present in array b but not already present within array a.\n"
   ]
  },
  {
   "cell_type": "markdown",
   "id": "dc3cf159",
   "metadata": {},
   "source": [
    "####  Logic\n",
    "\n",
    "- Firstly we use numpy \"setdiff1d\" to find the elements wthat are present in b but not in a.    \n",
    "\n",
    "- Secondly we use the numpy \"append\" function which appends value to the end of the array. Note: Append does not occur in place , a new array is allocated and filled .So we need to assign the new value to our new array\n"
   ]
  },
  {
   "cell_type": "code",
   "execution_count": 106,
   "id": "98113097",
   "metadata": {},
   "outputs": [
    {
     "name": "stdout",
     "output_type": "stream",
     "text": [
      "[12  5  7 15  3  1  8  4  6 11 14 19]\n"
     ]
    }
   ],
   "source": [
    "a = np.array([12, 5, 7, 15, 3, 1, 8])\n",
    "b = np.array([14, 6, 3, 11, 19, 12, 5, 3, 4])\n",
    "\n",
    "a= np.append(a,np.setdiff1d(b,a))\n",
    "print(a)"
   ]
  },
  {
   "cell_type": "markdown",
   "id": "16daa248",
   "metadata": {},
   "source": [
    "#### Q4.  The process of transforming a multidimensional array into a unidimensional array is referred to as “flattening”. Transform the 4x5 array shown above in Problem 2 into a unidimensional array such that the sequence of values contained within the array is as follows: 1, 2, 3, 4, 5, 6, 7, 8, 9, 10, 11, 12, 13, 14, 15, 16, 17, 18, 19, 20"
   ]
  },
  {
   "cell_type": "markdown",
   "id": "f4a62553",
   "metadata": {},
   "source": [
    "####  Logic\n",
    "\n",
    "- We use the numpy \"flatten\" function to collapse the array into 1 dimension\n",
    "\n",
    "- Also pass the parameter 'F' to flatten in column major order . Note : We also want to append the original array with the new flattened array , so we are assigning it . \n"
   ]
  },
  {
   "cell_type": "code",
   "execution_count": 107,
   "id": "563466ce",
   "metadata": {},
   "outputs": [
    {
     "name": "stdout",
     "output_type": "stream",
     "text": [
      "[ 1  2  3  4  5  6  7  8  9 10 11 12 13 14 15 16 17 18 19 20]\n"
     ]
    }
   ],
   "source": [
    "array = array.flatten('F')\n",
    "print(array)"
   ]
  },
  {
   "cell_type": "markdown",
   "id": "80425abb",
   "metadata": {},
   "source": [
    "#### Q4. For this problem you will load a small data set to your online GitHub repository and then read it into a NumPy 2D array. You will then use the content that NumPy array to answer a series of analytical questions. \n",
    "1) Load the provided M3_Data.csv file to your online DAV 5400 Github Repository.\n",
    "2) Then, from within your M3 Assignment Jupyter Notebook, read the data set from your Github repository and load it into a Pandas dataframe using the code snippet provided below."
   ]
  },
  {
   "cell_type": "code",
   "execution_count": 3,
   "id": "eb6f67e6",
   "metadata": {},
   "outputs": [
    {
     "data": {
      "text/plain": [
       "array([[   1979. , 7102100. ,    1512. ,     213. ],\n",
       "       [   1980. , 7071639. ,    1506. ,     213. ],\n",
       "       [   1981. , 7089241. ,    1309. ,     185. ],\n",
       "       [   1982. , 7109105. ,    1382. ,     194. ],\n",
       "       [   1983. , 7181224. ,    1424. ,     198. ],\n",
       "       [   1984. , 7234514. ,    1465. ,     203. ],\n",
       "       [   1985. , 7274054. ,    1326. ,     182. ],\n",
       "       [   1986. , 7319246. ,    1351. ,     185. ],\n",
       "       [   1987. , 7342476. ,    1447. ,     197. ],\n",
       "       [   1988. , 7353719. ,    1484. ,     202. ],\n",
       "       [   1989. , 7344175. ,    1402. ,     191. ],\n",
       "       [   1990. , 7335650. ,    1424. ,     194. ],\n",
       "       [   1991. , 7374501. ,    1469. ,     199. ],\n",
       "       [   1992. , 7428944. ,    1369. ,     184. ],\n",
       "       [   1993. , 7506166. ,    1368.5,     182. ],\n",
       "       [   1994. , 7570458. ,    1357.7,     179. ],\n",
       "       [   1995. , 7633040. ,    1325.7,     174. ],\n",
       "       [   1996. , 7697812. ,    1297.9,     169. ],\n",
       "       [   1997. , 7773443. ,    1205.5,     155. ],\n",
       "       [   1998. , 7858259. ,    1219.5,     155. ],\n",
       "       [   1999. , 7947660. ,    1237.2,     156. ],\n",
       "       [   2000. , 8008278. ,    1240.4,     155. ],\n",
       "       [   2001. , 8024963.5,    1184. ,     148. ],\n",
       "       [   2002. , 8041649. ,    1135.6,     141. ],\n",
       "       [   2003. , 8058334.5,    1093.7,     136. ],\n",
       "       [   2004. , 8075020. ,    1099.5,     136. ],\n",
       "       [   2005. , 8091705.5,    1138. ,     141. ],\n",
       "       [   2006. , 8108391. ,    1069. ,     132. ],\n",
       "       [   2007. , 8125076.5,    1114. ,     137. ],\n",
       "       [   2008. , 8141762. ,    1098. ,     135. ],\n",
       "       [   2009. , 8158447.5,    1007.5,     123. ],\n",
       "       [   2010. , 8175133. ,    1039. ,     127. ],\n",
       "       [   2011. , 8272963. ,    1021. ,     123. ],\n",
       "       [   2012. , 8348032. ,    1009.1,     121. ],\n",
       "       [   2013. , 8398739. ,    1006.1,     120. ],\n",
       "       [   2014. , 8437387. ,     996. ,     118. ],\n",
       "       [   2015. , 8468181. ,    1009. ,     119. ],\n",
       "       [   2016. , 8475976. ,    1002. ,     118. ],\n",
       "       [   2017. , 8438271. ,     990.2,     117. ],\n",
       "       [   2018. , 8398748. ,    1007.5,     120. ],\n",
       "       [   2019. , 8336817. ,     987.4,     118. ]])"
      ]
     },
     "execution_count": 3,
     "metadata": {},
     "output_type": "execute_result"
    }
   ],
   "source": [
    "import pandas\n",
    "# suppress scientific notation\n",
    "np.set_printoptions(suppress = True)\n",
    "# read the data file from GitHub and convert to a NumPy ndarray object\n",
    "# be sure to replace the ‘link_to_raw_copy of data file in your Github Repository’ placeholder shown below\n",
    "# with a link to the “raw” version of the file you pushed to your online GitHub repository\n",
    "nyc_water = pandas.read_csv('https://raw.githubusercontent.com/anagh3395/DAV5400/main/Module3/M3_Data.csv').to_numpy()\n",
    "# verify you have an ndarray object\n",
    "type(nyc_water)\n",
    "nyc_water"
   ]
  },
  {
   "cell_type": "markdown",
   "id": "19e4abd3",
   "metadata": {},
   "source": [
    "#### Q4 a) Which year had the maximum per capita daily water consumption?"
   ]
  },
  {
   "cell_type": "markdown",
   "id": "f15ceb5c",
   "metadata": {},
   "source": [
    "####  Logic \n",
    "\n",
    "- Firstly we use the numpy \"max\" function to calculate max value from the 3rd column (take all rows and 3rd column with slicing)\n",
    "\n",
    "- Secondly we use numpy \"where\" function to check when the value in the 3rd column   \n",
    "\n",
    "- Thirdly we run a for loop through the indexes and print the year for the corresponding max value\n",
    "\n",
    "- Note: We could have used numpy argmax() function but it will return only the index of the first occurence. So it wont work perfectly for duplicate values"
   ]
  },
  {
   "cell_type": "code",
   "execution_count": 109,
   "id": "b5696e42",
   "metadata": {},
   "outputs": [
    {
     "name": "stdout",
     "output_type": "stream",
     "text": [
      "Year -  1979.0 \n",
      "Max per capita daily -  213.0 Gallons per person per day\n",
      "\n",
      "Year -  1980.0 \n",
      "Max per capita daily -  213.0 Gallons per person per day\n",
      "\n"
     ]
    }
   ],
   "source": [
    "max_capita = np.max(nyc_water[:,3])\n",
    "max_value_index = np.where(nyc_water[:,3] == max_capita )\n",
    "\n",
    "#Note: We run the loop through max_value_index[0] because max_value_index is array of tuples\n",
    "for index in max_value_index[0]:\n",
    "    print(\"Year - \", nyc_water[index][0] , \"\\nMax per capita daily - \" , max_capita, \"Gallons per person per day\\n\")\n"
   ]
  },
  {
   "cell_type": "markdown",
   "id": "26d71d1b",
   "metadata": {},
   "source": [
    "#### Q4 b) Add a new column to the Numpy array containing the annual change in the population of the city from year to year."
   ]
  },
  {
   "cell_type": "markdown",
   "id": "47b6ed87",
   "metadata": {},
   "source": [
    "####  Logic \n",
    "\n",
    "- Firstly we use the numpy \"diff\" function on the first column (population) which calculates differences for the adjacent values in the array . We also add \"prepend\" NAN for the first row.\n",
    "\n",
    "- Secondly we append this column in the original numpy array .\n",
    "\n",
    "- The second argument is the change column (we also reshape it to convert it into a column)\n",
    "\n",
    "- The third argument is \"axis\" and we assign it to 1 that means we wanna append column wise."
   ]
  },
  {
   "cell_type": "code",
   "execution_count": 110,
   "id": "76566e91",
   "metadata": {},
   "outputs": [
    {
     "name": "stdout",
     "output_type": "stream",
     "text": [
      "[[   1979.  7102100.     1512.      213.        nan]\n",
      " [   1980.  7071639.     1506.      213.   -30461. ]\n",
      " [   1981.  7089241.     1309.      185.    17602. ]\n",
      " [   1982.  7109105.     1382.      194.    19864. ]\n",
      " [   1983.  7181224.     1424.      198.    72119. ]\n",
      " [   1984.  7234514.     1465.      203.    53290. ]\n",
      " [   1985.  7274054.     1326.      182.    39540. ]\n",
      " [   1986.  7319246.     1351.      185.    45192. ]\n",
      " [   1987.  7342476.     1447.      197.    23230. ]\n",
      " [   1988.  7353719.     1484.      202.    11243. ]\n",
      " [   1989.  7344175.     1402.      191.    -9544. ]\n",
      " [   1990.  7335650.     1424.      194.    -8525. ]\n",
      " [   1991.  7374501.     1469.      199.    38851. ]\n",
      " [   1992.  7428944.     1369.      184.    54443. ]\n",
      " [   1993.  7506166.     1368.5     182.    77222. ]\n",
      " [   1994.  7570458.     1357.7     179.    64292. ]\n",
      " [   1995.  7633040.     1325.7     174.    62582. ]\n",
      " [   1996.  7697812.     1297.9     169.    64772. ]\n",
      " [   1997.  7773443.     1205.5     155.    75631. ]\n",
      " [   1998.  7858259.     1219.5     155.    84816. ]\n",
      " [   1999.  7947660.     1237.2     156.    89401. ]\n",
      " [   2000.  8008278.     1240.4     155.    60618. ]\n",
      " [   2001.  8024963.5    1184.      148.    16685.5]\n",
      " [   2002.  8041649.     1135.6     141.    16685.5]\n",
      " [   2003.  8058334.5    1093.7     136.    16685.5]\n",
      " [   2004.  8075020.     1099.5     136.    16685.5]\n",
      " [   2005.  8091705.5    1138.      141.    16685.5]\n",
      " [   2006.  8108391.     1069.      132.    16685.5]\n",
      " [   2007.  8125076.5    1114.      137.    16685.5]\n",
      " [   2008.  8141762.     1098.      135.    16685.5]\n",
      " [   2009.  8158447.5    1007.5     123.    16685.5]\n",
      " [   2010.  8175133.     1039.      127.    16685.5]\n",
      " [   2011.  8272963.     1021.      123.    97830. ]\n",
      " [   2012.  8348032.     1009.1     121.    75069. ]\n",
      " [   2013.  8398739.     1006.1     120.    50707. ]\n",
      " [   2014.  8437387.      996.      118.    38648. ]\n",
      " [   2015.  8468181.     1009.      119.    30794. ]\n",
      " [   2016.  8475976.     1002.      118.     7795. ]\n",
      " [   2017.  8438271.      990.2     117.   -37705. ]\n",
      " [   2018.  8398748.     1007.5     120.   -39523. ]\n",
      " [   2019.  8336817.      987.4     118.   -61931. ]]\n"
     ]
    }
   ],
   "source": [
    "annual_change = np.diff(nyc_water[:,1],prepend = np.NaN)\n",
    "nyc_water = np.append(nyc_water, annual_change.reshape(-1,1),axis=1)\n",
    "print(nyc_water)"
   ]
  },
  {
   "cell_type": "markdown",
   "id": "e8d259aa",
   "metadata": {},
   "source": [
    "#### Q4 c) What is the median and variance of the population of the city during the time period represented within the data set?"
   ]
  },
  {
   "cell_type": "code",
   "execution_count": 115,
   "id": "ef82dcf4",
   "metadata": {},
   "outputs": [
    {
     "name": "stdout",
     "output_type": "stream",
     "text": [
      "Median of population\n",
      " 7947660.0\n",
      "\n",
      "Variance of population\n",
      " 214014109798.73172\n"
     ]
    }
   ],
   "source": [
    "# Using numpy \"median\" function to calculate median along the columns\n",
    "median_array = np.median(nyc_water, axis = 0)\n",
    "# Using numpy \"var\" function to calculate variance along the columns\n",
    "variance_array = np.var(nyc_water,axis=0)\n",
    "\n",
    "#Print the median and variance by accessing the index 1 from the respective arrays\n",
    "print(\"Median of population\\n\",median_array[1])\n",
    "print(\"\\nVariance of population\\n\",variance_array[1])"
   ]
  },
  {
   "cell_type": "markdown",
   "id": "747d5aff",
   "metadata": {},
   "source": [
    "#### Q5 d) What was the average annual change in the population of the city? "
   ]
  },
  {
   "cell_type": "code",
   "execution_count": 123,
   "id": "84f3aa94",
   "metadata": {},
   "outputs": [
    {
     "name": "stdout",
     "output_type": "stream",
     "text": [
      "Average Annual change in the population\n",
      " 30867.925\n"
     ]
    }
   ],
   "source": [
    "# Using numpy \"mean\" function to calculate average annual change in the population\n",
    "# We use slicing , We select 5th column and select from 2nd row (because 1st row has \"NAN\")\n",
    "mean_array = np.mean(nyc_water[1:,4])\n",
    "\n",
    "#Print the average\n",
    "print(\"Average Annual change in the population\\n\",mean_array)"
   ]
  },
  {
   "cell_type": "code",
   "execution_count": null,
   "id": "9d0bb39e",
   "metadata": {},
   "outputs": [],
   "source": []
  }
 ],
 "metadata": {
  "kernelspec": {
   "display_name": "Python 3 (ipykernel)",
   "language": "python",
   "name": "python3"
  },
  "language_info": {
   "codemirror_mode": {
    "name": "ipython",
    "version": 3
   },
   "file_extension": ".py",
   "mimetype": "text/x-python",
   "name": "python",
   "nbconvert_exporter": "python",
   "pygments_lexer": "ipython3",
   "version": "3.11.4"
  }
 },
 "nbformat": 4,
 "nbformat_minor": 5
}
